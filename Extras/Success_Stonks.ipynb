{
 "cells": [
  {
   "cell_type": "code",
   "execution_count": 1,
   "id": "76d5d4cf-5d91-4319-bbff-a5610416b05d",
   "metadata": {},
   "outputs": [
    {
     "name": "stdout",
     "output_type": "stream",
     "text": [
      "WARNING:tensorflow:From c:\\Users\\sharm\\.conda\\envs\\tf_env\\lib\\site-packages\\keras\\src\\losses.py:2976: The name tf.losses.sparse_softmax_cross_entropy is deprecated. Please use tf.compat.v1.losses.sparse_softmax_cross_entropy instead.\n",
      "\n",
      "TensorFlow is using: CPU\n",
      "PyTorch is using: CPU\n",
      "Using CPU for processing.\n",
      "c:\\Users\\sharm\\GDG Stock market model\n",
      "Using device: cpu\n"
     ]
    },
    {
     "name": "stderr",
     "output_type": "stream",
     "text": [
      "Device set to use cpu\n",
      "C:\\Users\\sharm\\AppData\\Local\\Temp\\ipykernel_22112\\454053934.py:78: UserWarning: The argument 'infer_datetime_format' is deprecated and will be removed in a future version. A strict version of it is now the default, see https://pandas.pydata.org/pdeps/0004-consistent-to-datetime-parsing.html. You can safely remove this argument.\n",
      "  news_data['date'] = pd.to_datetime(news_data['date'], infer_datetime_format=True)\n"
     ]
    },
    {
     "ename": "ValueError",
     "evalue": "time data \"15/01/2010\" doesn't match format \"%m/%d/%Y\", at position 2. You might want to try:\n    - passing `format` if your strings have a consistent format;\n    - passing `format='ISO8601'` if your strings are all ISO8601 but not necessarily in exactly the same format;\n    - passing `format='mixed'`, and the format will be inferred for each element individually. You might want to use `dayfirst` alongside this.",
     "output_type": "error",
     "traceback": [
      "\u001b[1;31m---------------------------------------------------------------------------\u001b[0m",
      "\u001b[1;31mValueError\u001b[0m                                Traceback (most recent call last)",
      "Cell \u001b[1;32mIn[1], line 78\u001b[0m\n\u001b[0;32m     76\u001b[0m news_data[\u001b[38;5;124m'\u001b[39m\u001b[38;5;124msentiment\u001b[39m\u001b[38;5;124m'\u001b[39m] \u001b[38;5;241m=\u001b[39m news_data[\u001b[38;5;124m'\u001b[39m\u001b[38;5;124mnews_summary\u001b[39m\u001b[38;5;124m'\u001b[39m]\u001b[38;5;241m.\u001b[39mapply(get_sentiment)\n\u001b[0;32m     77\u001b[0m news_data[\u001b[38;5;124m'\u001b[39m\u001b[38;5;124msentiment\u001b[39m\u001b[38;5;124m'\u001b[39m] \u001b[38;5;241m=\u001b[39m news_data[\u001b[38;5;124m'\u001b[39m\u001b[38;5;124msentiment\u001b[39m\u001b[38;5;124m'\u001b[39m]\u001b[38;5;241m.\u001b[39mmap({\u001b[38;5;124m'\u001b[39m\u001b[38;5;124mPOSITIVE\u001b[39m\u001b[38;5;124m'\u001b[39m: \u001b[38;5;241m1\u001b[39m, \u001b[38;5;124m'\u001b[39m\u001b[38;5;124mNEGATIVE\u001b[39m\u001b[38;5;124m'\u001b[39m: \u001b[38;5;241m-\u001b[39m\u001b[38;5;241m1\u001b[39m})  \u001b[38;5;66;03m# Removed 'NEUTRAL'\u001b[39;00m\n\u001b[1;32m---> 78\u001b[0m news_data[\u001b[38;5;124m'\u001b[39m\u001b[38;5;124mdate\u001b[39m\u001b[38;5;124m'\u001b[39m] \u001b[38;5;241m=\u001b[39m \u001b[43mpd\u001b[49m\u001b[38;5;241;43m.\u001b[39;49m\u001b[43mto_datetime\u001b[49m\u001b[43m(\u001b[49m\u001b[43mnews_data\u001b[49m\u001b[43m[\u001b[49m\u001b[38;5;124;43m'\u001b[39;49m\u001b[38;5;124;43mdate\u001b[39;49m\u001b[38;5;124;43m'\u001b[39;49m\u001b[43m]\u001b[49m\u001b[43m,\u001b[49m\u001b[43m \u001b[49m\u001b[43minfer_datetime_format\u001b[49m\u001b[38;5;241;43m=\u001b[39;49m\u001b[38;5;28;43;01mTrue\u001b[39;49;00m\u001b[43m)\u001b[49m\n\u001b[0;32m     79\u001b[0m news_data \u001b[38;5;241m=\u001b[39m news_data\u001b[38;5;241m.\u001b[39mgroupby(\u001b[38;5;124m'\u001b[39m\u001b[38;5;124mdate\u001b[39m\u001b[38;5;124m'\u001b[39m)\u001b[38;5;241m.\u001b[39magg({\u001b[38;5;124m'\u001b[39m\u001b[38;5;124msentiment\u001b[39m\u001b[38;5;124m'\u001b[39m: \u001b[38;5;124m'\u001b[39m\u001b[38;5;124mmean\u001b[39m\u001b[38;5;124m'\u001b[39m})\u001b[38;5;241m.\u001b[39mreset_index()\n\u001b[0;32m     81\u001b[0m \u001b[38;5;66;03m# ✅ Fill missing dates in news data\u001b[39;00m\n",
      "File \u001b[1;32mc:\\Users\\sharm\\.conda\\envs\\tf_env\\lib\\site-packages\\pandas\\core\\tools\\datetimes.py:1063\u001b[0m, in \u001b[0;36mto_datetime\u001b[1;34m(arg, errors, dayfirst, yearfirst, utc, format, exact, unit, infer_datetime_format, origin, cache)\u001b[0m\n\u001b[0;32m   1061\u001b[0m             result \u001b[38;5;241m=\u001b[39m arg\u001b[38;5;241m.\u001b[39mtz_localize(\u001b[38;5;124m\"\u001b[39m\u001b[38;5;124mutc\u001b[39m\u001b[38;5;124m\"\u001b[39m)\n\u001b[0;32m   1062\u001b[0m \u001b[38;5;28;01melif\u001b[39;00m \u001b[38;5;28misinstance\u001b[39m(arg, ABCSeries):\n\u001b[1;32m-> 1063\u001b[0m     cache_array \u001b[38;5;241m=\u001b[39m \u001b[43m_maybe_cache\u001b[49m\u001b[43m(\u001b[49m\u001b[43marg\u001b[49m\u001b[43m,\u001b[49m\u001b[43m \u001b[49m\u001b[38;5;28;43mformat\u001b[39;49m\u001b[43m,\u001b[49m\u001b[43m \u001b[49m\u001b[43mcache\u001b[49m\u001b[43m,\u001b[49m\u001b[43m \u001b[49m\u001b[43mconvert_listlike\u001b[49m\u001b[43m)\u001b[49m\n\u001b[0;32m   1064\u001b[0m     \u001b[38;5;28;01mif\u001b[39;00m \u001b[38;5;129;01mnot\u001b[39;00m cache_array\u001b[38;5;241m.\u001b[39mempty:\n\u001b[0;32m   1065\u001b[0m         result \u001b[38;5;241m=\u001b[39m arg\u001b[38;5;241m.\u001b[39mmap(cache_array)\n",
      "File \u001b[1;32mc:\\Users\\sharm\\.conda\\envs\\tf_env\\lib\\site-packages\\pandas\\core\\tools\\datetimes.py:247\u001b[0m, in \u001b[0;36m_maybe_cache\u001b[1;34m(arg, format, cache, convert_listlike)\u001b[0m\n\u001b[0;32m    245\u001b[0m unique_dates \u001b[38;5;241m=\u001b[39m unique(arg)\n\u001b[0;32m    246\u001b[0m \u001b[38;5;28;01mif\u001b[39;00m \u001b[38;5;28mlen\u001b[39m(unique_dates) \u001b[38;5;241m<\u001b[39m \u001b[38;5;28mlen\u001b[39m(arg):\n\u001b[1;32m--> 247\u001b[0m     cache_dates \u001b[38;5;241m=\u001b[39m \u001b[43mconvert_listlike\u001b[49m\u001b[43m(\u001b[49m\u001b[43munique_dates\u001b[49m\u001b[43m,\u001b[49m\u001b[43m \u001b[49m\u001b[38;5;28;43mformat\u001b[39;49m\u001b[43m)\u001b[49m\n\u001b[0;32m    248\u001b[0m     \u001b[38;5;66;03m# GH#45319\u001b[39;00m\n\u001b[0;32m    249\u001b[0m     \u001b[38;5;28;01mtry\u001b[39;00m:\n",
      "File \u001b[1;32mc:\\Users\\sharm\\.conda\\envs\\tf_env\\lib\\site-packages\\pandas\\core\\tools\\datetimes.py:433\u001b[0m, in \u001b[0;36m_convert_listlike_datetimes\u001b[1;34m(arg, format, name, utc, unit, errors, dayfirst, yearfirst, exact)\u001b[0m\n\u001b[0;32m    431\u001b[0m \u001b[38;5;66;03m# `format` could be inferred, or user didn't ask for mixed-format parsing.\u001b[39;00m\n\u001b[0;32m    432\u001b[0m \u001b[38;5;28;01mif\u001b[39;00m \u001b[38;5;28mformat\u001b[39m \u001b[38;5;129;01mis\u001b[39;00m \u001b[38;5;129;01mnot\u001b[39;00m \u001b[38;5;28;01mNone\u001b[39;00m \u001b[38;5;129;01mand\u001b[39;00m \u001b[38;5;28mformat\u001b[39m \u001b[38;5;241m!=\u001b[39m \u001b[38;5;124m\"\u001b[39m\u001b[38;5;124mmixed\u001b[39m\u001b[38;5;124m\"\u001b[39m:\n\u001b[1;32m--> 433\u001b[0m     \u001b[38;5;28;01mreturn\u001b[39;00m \u001b[43m_array_strptime_with_fallback\u001b[49m\u001b[43m(\u001b[49m\u001b[43marg\u001b[49m\u001b[43m,\u001b[49m\u001b[43m \u001b[49m\u001b[43mname\u001b[49m\u001b[43m,\u001b[49m\u001b[43m \u001b[49m\u001b[43mutc\u001b[49m\u001b[43m,\u001b[49m\u001b[43m \u001b[49m\u001b[38;5;28;43mformat\u001b[39;49m\u001b[43m,\u001b[49m\u001b[43m \u001b[49m\u001b[43mexact\u001b[49m\u001b[43m,\u001b[49m\u001b[43m \u001b[49m\u001b[43merrors\u001b[49m\u001b[43m)\u001b[49m\n\u001b[0;32m    435\u001b[0m result, tz_parsed \u001b[38;5;241m=\u001b[39m objects_to_datetime64(\n\u001b[0;32m    436\u001b[0m     arg,\n\u001b[0;32m    437\u001b[0m     dayfirst\u001b[38;5;241m=\u001b[39mdayfirst,\n\u001b[1;32m   (...)\u001b[0m\n\u001b[0;32m    441\u001b[0m     allow_object\u001b[38;5;241m=\u001b[39m\u001b[38;5;28;01mTrue\u001b[39;00m,\n\u001b[0;32m    442\u001b[0m )\n\u001b[0;32m    444\u001b[0m \u001b[38;5;28;01mif\u001b[39;00m tz_parsed \u001b[38;5;129;01mis\u001b[39;00m \u001b[38;5;129;01mnot\u001b[39;00m \u001b[38;5;28;01mNone\u001b[39;00m:\n\u001b[0;32m    445\u001b[0m     \u001b[38;5;66;03m# We can take a shortcut since the datetime64 numpy array\u001b[39;00m\n\u001b[0;32m    446\u001b[0m     \u001b[38;5;66;03m# is in UTC\u001b[39;00m\n",
      "File \u001b[1;32mc:\\Users\\sharm\\.conda\\envs\\tf_env\\lib\\site-packages\\pandas\\core\\tools\\datetimes.py:467\u001b[0m, in \u001b[0;36m_array_strptime_with_fallback\u001b[1;34m(arg, name, utc, fmt, exact, errors)\u001b[0m\n\u001b[0;32m    456\u001b[0m \u001b[38;5;28;01mdef\u001b[39;00m \u001b[38;5;21m_array_strptime_with_fallback\u001b[39m(\n\u001b[0;32m    457\u001b[0m     arg,\n\u001b[0;32m    458\u001b[0m     name,\n\u001b[1;32m   (...)\u001b[0m\n\u001b[0;32m    462\u001b[0m     errors: \u001b[38;5;28mstr\u001b[39m,\n\u001b[0;32m    463\u001b[0m ) \u001b[38;5;241m-\u001b[39m\u001b[38;5;241m>\u001b[39m Index:\n\u001b[0;32m    464\u001b[0m \u001b[38;5;250m    \u001b[39m\u001b[38;5;124;03m\"\"\"\u001b[39;00m\n\u001b[0;32m    465\u001b[0m \u001b[38;5;124;03m    Call array_strptime, with fallback behavior depending on 'errors'.\u001b[39;00m\n\u001b[0;32m    466\u001b[0m \u001b[38;5;124;03m    \"\"\"\u001b[39;00m\n\u001b[1;32m--> 467\u001b[0m     result, tz_out \u001b[38;5;241m=\u001b[39m \u001b[43marray_strptime\u001b[49m\u001b[43m(\u001b[49m\u001b[43marg\u001b[49m\u001b[43m,\u001b[49m\u001b[43m \u001b[49m\u001b[43mfmt\u001b[49m\u001b[43m,\u001b[49m\u001b[43m \u001b[49m\u001b[43mexact\u001b[49m\u001b[38;5;241;43m=\u001b[39;49m\u001b[43mexact\u001b[49m\u001b[43m,\u001b[49m\u001b[43m \u001b[49m\u001b[43merrors\u001b[49m\u001b[38;5;241;43m=\u001b[39;49m\u001b[43merrors\u001b[49m\u001b[43m,\u001b[49m\u001b[43m \u001b[49m\u001b[43mutc\u001b[49m\u001b[38;5;241;43m=\u001b[39;49m\u001b[43mutc\u001b[49m\u001b[43m)\u001b[49m\n\u001b[0;32m    468\u001b[0m     \u001b[38;5;28;01mif\u001b[39;00m tz_out \u001b[38;5;129;01mis\u001b[39;00m \u001b[38;5;129;01mnot\u001b[39;00m \u001b[38;5;28;01mNone\u001b[39;00m:\n\u001b[0;32m    469\u001b[0m         unit \u001b[38;5;241m=\u001b[39m np\u001b[38;5;241m.\u001b[39mdatetime_data(result\u001b[38;5;241m.\u001b[39mdtype)[\u001b[38;5;241m0\u001b[39m]\n",
      "File \u001b[1;32mstrptime.pyx:501\u001b[0m, in \u001b[0;36mpandas._libs.tslibs.strptime.array_strptime\u001b[1;34m()\u001b[0m\n",
      "File \u001b[1;32mstrptime.pyx:451\u001b[0m, in \u001b[0;36mpandas._libs.tslibs.strptime.array_strptime\u001b[1;34m()\u001b[0m\n",
      "File \u001b[1;32mstrptime.pyx:583\u001b[0m, in \u001b[0;36mpandas._libs.tslibs.strptime._parse_with_format\u001b[1;34m()\u001b[0m\n",
      "\u001b[1;31mValueError\u001b[0m: time data \"15/01/2010\" doesn't match format \"%m/%d/%Y\", at position 2. You might want to try:\n    - passing `format` if your strings have a consistent format;\n    - passing `format='ISO8601'` if your strings are all ISO8601 but not necessarily in exactly the same format;\n    - passing `format='mixed'`, and the format will be inferred for each element individually. You might want to use `dayfirst` alongside this."
     ]
    }
   ],
   "source": [
    "import tensorflow as tf\n",
    "import torch\n",
    "\n",
    "# Check TensorFlow\n",
    "print(\"TensorFlow is using:\", \"GPU\" if tf.config.list_physical_devices('GPU') else \"CPU\")\n",
    "\n",
    "# Check PyTorch\n",
    "print(\"PyTorch is using:\", \"GPU\" if torch.cuda.is_available() else \"CPU\")\n",
    "\n",
    "import os\n",
    "os.environ[\"CUDA_VISIBLE_DEVICES\"] = \"-1\"  # Force TensorFlow to use CPU\n",
    "\n",
    "device = torch.device(\"cuda\" if torch.cuda.is_available() else \"cpu\")\n",
    "\n",
    "device = torch.device(\"cpu\")\n",
    "print(\"Using CPU for processing.\")\n",
    "\n",
    "import os\n",
    "print(os.getcwd())  # This shows your current directory\n",
    "\n",
    "import os\n",
    "import pandas as pd\n",
    "import numpy as np\n",
    "import tensorflow as tf\n",
    "from tensorflow.keras.models import Sequential\n",
    "from tensorflow.keras.layers import LSTM, Dense\n",
    "from transformers import pipeline\n",
    "import torch\n",
    "from sklearn.impute import SimpleImputer\n",
    "from sklearn.model_selection import train_test_split\n",
    "from sklearn.metrics import mean_squared_error\n",
    "\n",
    "# ✅ Check if PyTorch is using GPU or CPU\n",
    "try:\n",
    "    device = torch.device(\"cuda\" if torch.cuda.is_available() else \"cpu\")\n",
    "    print(f\"Using device: {device}\")\n",
    "except ImportError:\n",
    "    raise ImportError(\"Please install PyTorch by running 'pip install torch'\")\n",
    "\n",
    "# ✅ Ensure data files exist\n",
    "if not os.path.exists(\"stock_data.csv\"):\n",
    "    raise FileNotFoundError(\"Error: stock_data.csv not found! Place it in the correct folder.\")\n",
    "if not os.path.exists(\"news_data.csv\"):\n",
    "    raise FileNotFoundError(\"Error: news_data.csv not found! Place it in the correct folder.\")\n",
    "\n",
    "# ✅ Load data\n",
    "stock_data = pd.read_csv('stock_data.csv')\n",
    "news_data = pd.read_csv('news_data.csv')\n",
    "\n",
    "# ✅ Ensure required columns exist\n",
    "required_stock_columns = ['date', 'open', 'close', 'volume']\n",
    "required_news_columns = ['date', 'news_summary']\n",
    "\n",
    "for col in required_stock_columns:\n",
    "    if col not in stock_data.columns:\n",
    "        raise KeyError(f\"Error: '{col}' column is missing from stock_data.csv.\")\n",
    "for col in required_news_columns:\n",
    "    if col not in news_data.columns:\n",
    "        raise KeyError(f\"Error: '{col}' column is missing from news_data.csv.\")\n",
    "\n",
    "# ✅ Initialize sentiment pipeline\n",
    "sentiment_pipeline = pipeline(\n",
    "    'sentiment-analysis',\n",
    "    model='distilbert-base-uncased-finetuned-sst-2-english',\n",
    "    device=-1  # Use CPU for stability\n",
    ")\n",
    "\n",
    "# ✅ Process news sentiment analysis\n",
    "def get_sentiment(news_summary):\n",
    "    try:\n",
    "        return sentiment_pipeline(news_summary)[0]['label']\n",
    "    except Exception as e:\n",
    "        print(f\"Error processing sentiment for summary: {news_summary}. Error: {e}\")\n",
    "        return 'POSITIVE'  # Default to 'POSITIVE' instead of 'NEUTRAL' (to avoid mapping errors)\n",
    "\n",
    "news_data['sentiment'] = news_data['news_summary'].apply(get_sentiment)\n",
    "news_data['sentiment'] = news_data['sentiment'].map({'POSITIVE': 1, 'NEGATIVE': -1})  # Removed 'NEUTRAL'\n",
    "news_data['date'] = pd.to_datetime(news_data['date'], infer_datetime_format=True)\n",
    "news_data = news_data.groupby('date').agg({'sentiment': 'mean'}).reset_index()\n",
    "\n",
    "# ✅ Fill missing dates in news data\n",
    "news_data = news_data.set_index('date').resample('D').ffill().reset_index()\n",
    "\n",
    "# ✅ Process stock_data\n",
    "stock_data['date'] = pd.to_datetime(stock_data['date'], infer_datetime_format=True)\n",
    "stock_data = stock_data.set_index('date').resample('D').ffill().reset_index()\n",
    "\n",
    "# ✅ Merge stock and news data\n",
    "merged_data = pd.merge(stock_data, news_data, on='date', how='left').fillna(0)\n",
    "print(\"\\n✅ Merged data before filtering:\")\n",
    "print(merged_data.head())\n",
    "\n",
    "# ✅ Prepare features and targets\n",
    "X = merged_data[['sentiment', 'volume']]  # Features\n",
    "y_close = merged_data['close']\n",
    "y_open = merged_data['open']\n",
    "\n",
    "# ✅ Handle missing values\n",
    "imputer_X = SimpleImputer(strategy='mean')\n",
    "imputer_y_close = SimpleImputer(strategy='mean')\n",
    "imputer_y_open = SimpleImputer(strategy='mean')\n",
    "\n",
    "X = imputer_X.fit_transform(X)\n",
    "y_close = imputer_y_close.fit_transform(y_close.values.reshape(-1, 1)).ravel()\n",
    "y_open = imputer_y_open.fit_transform(y_open.values.reshape(-1, 1)).ravel()\n",
    "\n",
    "# ✅ Reshape X for LSTM (samples, time_steps=1, features=2)\n",
    "X = np.reshape(X, (X.shape[0], 1, X.shape[1]))\n",
    "\n",
    "# ✅ Split data into training & testing sets\n",
    "X_train, X_test, y_train_close, y_test_close = train_test_split(X, y_close, test_size=0.2, shuffle=False)\n",
    "_, _, y_train_open, y_test_open = train_test_split(X, y_open, test_size=0.2, shuffle=False)\n",
    "\n",
    "# ✅ Build LSTM model function\n",
    "def build_lstm_model():\n",
    "    model = Sequential([\n",
    "        LSTM(64, input_shape=(1, 2), return_sequences=False),\n",
    "        Dense(1)\n",
    "    ])\n",
    "    model.compile(loss=tf.keras.losses.MeanSquaredError(), optimizer='adam')\n",
    "    return model\n",
    "\n",
    "# ✅ Train LSTM models\n",
    "model_close = build_lstm_model()\n",
    "model_open = build_lstm_model()\n",
    "\n",
    "print(\"\\n✅ Training LSTM models...\")\n",
    "model_close.fit(X_train, y_train_close, epochs=10, batch_size=16, verbose=1)\n",
    "model_open.fit(X_train, y_train_open, epochs=10, batch_size=16, verbose=1)\n",
    "\n",
    "# ✅ Evaluate models\n",
    "y_pred_close = model_close.predict(X_test)\n",
    "y_pred_open = model_open.predict(X_test)\n",
    "\n",
    "mse_close = mean_squared_error(y_test_close, y_pred_close)\n",
    "mse_open = mean_squared_error(y_test_open, y_pred_open)\n",
    "\n",
    "print(f\"\\n✅ LSTM MSE (Close): {mse_close}\")\n",
    "print(f\"✅ LSTM MSE (Open): {mse_open}\")\n",
    "\n",
    "# ✅ Save trained models\n",
    "model_close.save('stock_price_model_close.h5')\n",
    "model_open.save('stock_price_model_open.h5')\n",
    "\n",
    "# ✅ Run predictions\n",
    "def predict_stock_price(news_data_file, output_file):\n",
    "    new_data = pd.read_csv(news_data_file)\n",
    "\n",
    "    # Check required columns\n",
    "    if 'news_summary' not in new_data.columns or 'date' not in new_data.columns:\n",
    "        raise KeyError(\"Error: Required columns are missing in the news data file.\")\n",
    "\n",
    "    # Process sentiment\n",
    "    new_data['sentiment'] = new_data['news_summary'].apply(get_sentiment)\n",
    "    new_data['sentiment'] = new_data['sentiment'].map({'POSITIVE': 1, 'NEGATIVE': -1})\n",
    "    new_data['date'] = pd.to_datetime(new_data['date'], infer_datetime_format=True)\n",
    "\n",
    "    # Add missing volume column\n",
    "    if 'volume' not in new_data.columns:\n",
    "        new_data['volume'] = 0\n",
    "\n",
    "    # Prepare input\n",
    "    X_new = new_data[['sentiment', 'volume']]\n",
    "    X_new = imputer_X.transform(X_new)\n",
    "    X_new = np.reshape(X_new, (X_new.shape[0], 1, X_new.shape[1]))\n",
    "\n",
    "    # Load trained models\n",
    "    lstm_close = tf.keras.models.load_model('stock_price_model_close.h5')\n",
    "    lstm_open = tf.keras.models.load_model('stock_price_model_open.h5')\n",
    "\n",
    "    # Make predictions\n",
    "    predictions_close = lstm_close.predict(X_new).ravel()\n",
    "    predictions_open = lstm_open.predict(X_new).ravel()\n",
    "\n",
    "    new_data['predicted_close'] = predictions_close\n",
    "    new_data['predicted_open'] = predictions_open\n",
    "    new_data['predicted_avg'] = (predictions_open + predictions_close) / 2\n",
    "\n",
    "    # Save results\n",
    "    new_data.to_csv(output_file, index=False)\n",
    "    print(\"\\n✅ Predictions saved to:\", output_file)\n",
    "    return new_data\n",
    "\n",
    "predictions = predict_stock_price('new_news_data.csv', 'predicted_stock_prices.csv')\n",
    "print(\"\\n✅ Predictions:\\n\", predictions.head())\n",
    "\n",
    "import pandas as pd\n",
    "df = pd.read_csv(\"predicted_stock_prices.csv\")\n",
    "print(df.head())\n",
    "\n"
   ]
  },
  {
   "cell_type": "code",
   "execution_count": null,
   "id": "1c7a2eb5-ad94-4d4d-acc6-e56c40db508e",
   "metadata": {},
   "outputs": [],
   "source": [
    "print(\"\\n✅ Training LSTM models...\")\n",
    "model_close.fit(X_train, y_train_close, epochs=10, batch_size=16, verbose=1)\n",
    "model_open.fit(X_train, y_train_open, epochs=10, batch_size=16, verbose=1)\n"
   ]
  },
  {
   "cell_type": "code",
   "execution_count": null,
   "id": "ffffad14-9011-4a74-9628-ce20bb6906fc",
   "metadata": {},
   "outputs": [],
   "source": [
    "import os\n",
    "print(\"Current Directory:\", os.getcwd())\n",
    "print(\"Files in directory:\", os.listdir())\n"
   ]
  },
  {
   "cell_type": "code",
   "execution_count": null,
   "id": "e87f27c0-ca2c-4263-bb51-26e2217ea34a",
   "metadata": {},
   "outputs": [],
   "source": [
    "import pandas as pd\n",
    "\n",
    "# ✅ Load Data\n",
    "news_data = pd.read_csv(\"news_data.csv\")\n",
    "stock_data = pd.read_csv(\"stock_data.csv\")\n",
    "\n",
    "# ✅ Print Columns\n",
    "print(\"\\n✅ News Data Columns:\", news_data.columns)\n",
    "print(\"\\n✅ Stock Data Columns:\", stock_data.columns)\n",
    "\n",
    "# ✅ Show First Few Rows\n",
    "print(\"\\n✅ News Data Sample:\\n\", news_data.head())\n",
    "print(\"\\n✅ Stock Data Sample:\\n\", stock_data.head())\n"
   ]
  },
  {
   "cell_type": "code",
   "execution_count": null,
   "id": "a694c2d3-3c28-4a5b-942f-df1ae9d26f82",
   "metadata": {},
   "outputs": [],
   "source": [
    "from transformers import pipeline\n",
    "\n",
    "sentiment_pipeline = pipeline(\"sentiment-analysis\")\n",
    "\n",
    "# ✅ Apply Sentiment Analysis\n",
    "news_data['sentiment'] = news_data['news_summary'].apply(lambda x: sentiment_pipeline(x)[0]['label'])\n",
    "news_data['sentiment'] = news_data['sentiment'].map({'POSITIVE': 1, 'NEGATIVE': -1})\n",
    "\n",
    "print(\"\\n✅ Sentiment Analysis Completed!\")\n",
    "print(news_data.head())  # Verify it worked\n"
   ]
  },
  {
   "cell_type": "code",
   "execution_count": null,
   "id": "5eb8e6ec-77f5-4b72-87c5-011689719343",
   "metadata": {},
   "outputs": [],
   "source": [
    "print(\"Stock Data Columns:\", stock_data.columns)\n",
    "print(\"News Data Columns:\", news_data.columns)\n"
   ]
  },
  {
   "cell_type": "code",
   "execution_count": null,
   "id": "f67cb0f4-aca6-46ea-8018-c029340acfbb",
   "metadata": {},
   "outputs": [
    {
     "name": "stdout",
     "output_type": "stream",
     "text": [
      "WARNING:tensorflow:From C:\\Users\\sharm\\.conda\\envs\\tf_env\\lib\\site-packages\\keras\\src\\losses.py:2976: The name tf.losses.sparse_softmax_cross_entropy is deprecated. Please use tf.compat.v1.losses.sparse_softmax_cross_entropy instead.\n",
      "\n",
      "✅ All Libraries Imported Successfully!\n"
     ]
    }
   ],
   "source": [
    "import pandas as pd\n",
    "import numpy as np\n",
    "import tensorflow as tf\n",
    "import torch\n",
    "from transformers import pipeline\n",
    "from sklearn.impute import SimpleImputer\n",
    "from sklearn.model_selection import train_test_split\n",
    "from sklearn.metrics import mean_squared_error\n",
    "\n",
    "print(\"✅ All Libraries Imported Successfully!\")\n"
   ]
  },
  {
   "cell_type": "code",
   "execution_count": null,
   "id": "c885650a-6485-499f-bc57-af6767ef7564",
   "metadata": {},
   "outputs": [
    {
     "ename": "NameError",
     "evalue": "name 'news_data' is not defined",
     "output_type": "error",
     "traceback": [
      "\u001b[1;31m---------------------------------------------------------------------------\u001b[0m",
      "\u001b[1;31mNameError\u001b[0m                                 Traceback (most recent call last)",
      "Cell \u001b[1;32mIn[2], line 2\u001b[0m\n\u001b[0;32m      1\u001b[0m \u001b[38;5;66;03m# ✅ Check if 'sentiment' column is missing before merging\u001b[39;00m\n\u001b[1;32m----> 2\u001b[0m \u001b[38;5;28;01mif\u001b[39;00m \u001b[38;5;124m'\u001b[39m\u001b[38;5;124msentiment\u001b[39m\u001b[38;5;124m'\u001b[39m \u001b[38;5;129;01mnot\u001b[39;00m \u001b[38;5;129;01min\u001b[39;00m \u001b[43mnews_data\u001b[49m\u001b[38;5;241m.\u001b[39mcolumns:\n\u001b[0;32m      3\u001b[0m     \u001b[38;5;28mprint\u001b[39m(\u001b[38;5;124m\"\u001b[39m\u001b[38;5;130;01m\\n\u001b[39;00m\u001b[38;5;124m❌ ERROR: \u001b[39m\u001b[38;5;124m'\u001b[39m\u001b[38;5;124msentiment\u001b[39m\u001b[38;5;124m'\u001b[39m\u001b[38;5;124m column is missing in news_data! Fixing it now...\u001b[39m\u001b[38;5;124m\"\u001b[39m)\n\u001b[0;32m      5\u001b[0m     \u001b[38;5;66;03m# Re-run sentiment analysis\u001b[39;00m\n",
      "\u001b[1;31mNameError\u001b[0m: name 'news_data' is not defined"
     ]
    }
   ],
   "source": [
    "# ✅ Check if 'sentiment' column is missing before merging\n",
    "if 'sentiment' not in news_data.columns:\n",
    "    print(\"\\n❌ ERROR: 'sentiment' column is missing in news_data! Fixing it now...\")\n",
    "\n",
    "    # Re-run sentiment analysis\n",
    "    def get_sentiment(text):\n",
    "        try:\n",
    "            return sentiment_pipeline(text)[0]['label']\n",
    "        except:\n",
    "            return 'POSITIVE'  # Default to avoid errors\n",
    "\n",
    "    news_data['sentiment'] = news_data['news_summary'].apply(get_sentiment)\n",
    "    news_data['sentiment'] = news_data['sentiment'].map({'POSITIVE': 1, 'NEGATIVE': -1})  # No NEUTRAL\n"
   ]
  },
  {
   "cell_type": "code",
   "execution_count": null,
   "id": "c9605d6c-b280-47c1-81b3-dcdb0f892d04",
   "metadata": {},
   "outputs": [
    {
     "name": "stdout",
     "output_type": "stream",
     "text": [
      "\n",
      "✅ News Data Loaded Successfully!\n",
      "         date                                              title  \\\n",
      "0  01/01/2010  Madanjeet Singh to give USD 0.5 million for Ka...   \n",
      "1  01/01/2010                           A new night to celebrate   \n",
      "2  01/01/2010       How Gautam Adani anchors his Rs 30kcr empire   \n",
      "3  01/01/2010   Uttarakhand to go ahead with power privatisation   \n",
      "4  01/01/2010  Scientists use synthetic genome to create life...   \n",
      "\n",
      "                                        news_summary  \n",
      "0  UNESCO Goodwill Ambassador and Founder of the ...  \n",
      "1  India's most innovative deals have finally bee...  \n",
      "2  Adani has seen his ventures prosper at a brisk...  \n",
      "3  Despite vehement political opposition, the Utt...  \n",
      "4  Scientists have shown that a bacterial cell ca...  \n"
     ]
    }
   ],
   "source": [
    "import pandas as pd\n",
    "\n",
    "# ✅ Reload News Data\n",
    "news_data = pd.read_csv(\"news_data.csv\")\n",
    "\n",
    "# ✅ Ensure Required Columns Exist\n",
    "if 'date' not in news_data.columns:\n",
    "    raise KeyError(\"❌ 'date' column is missing in news_data.csv!\")\n",
    "\n",
    "if 'news_summary' not in news_data.columns:\n",
    "    raise KeyError(\"❌ 'news_summary' column is missing in news_data.csv!\")\n",
    "\n",
    "print(\"\\n✅ News Data Loaded Successfully!\")\n",
    "print(news_data.head())  # Show first few rows\n"
   ]
  },
  {
   "cell_type": "code",
   "execution_count": null,
   "id": "e84a2df3-f001-455f-b8c8-9b4e29e93f01",
   "metadata": {},
   "outputs": [
    {
     "name": "stdout",
     "output_type": "stream",
     "text": [
      "WARNING:tensorflow:From C:\\Users\\sharm\\.conda\\envs\\tf_env\\lib\\site-packages\\keras\\src\\losses.py:2976: The name tf.losses.sparse_softmax_cross_entropy is deprecated. Please use tf.compat.v1.losses.sparse_softmax_cross_entropy instead.\n",
      "\n"
     ]
    },
    {
     "name": "stderr",
     "output_type": "stream",
     "text": [
      "Device set to use cpu\n"
     ]
    }
   ],
   "source": [
    "from transformers import pipeline\n",
    "\n",
    "# ✅ Download Model to Avoid Repeated Downloading\n",
    "model_name = \"distilbert-base-uncased-finetuned-sst-2-english\"\n",
    "\n",
    "# ✅ Initialize Sentiment Pipeline with Specific Model\n",
    "sentiment_pipeline = pipeline(\"sentiment-analysis\", model=model_name, device=-1)  # CPU Mode\n",
    "\n",
    "# ✅ Apply Sentiment Analysis\n",
    "news_data['sentiment'] = news_data['news_summary'].apply(lambda x: sentiment_pipeline(x)[0]['label'])\n",
    "news_data['sentiment'] = news_data['sentiment'].map({'POSITIVE': 1, 'NEGATIVE': -1})  # Neutral Removed\n",
    "\n",
    "print(\"\\n✅ Sentiment Analysis Completed!\")\n",
    "print(news_data.head())  # Verify results\n"
   ]
  },
  {
   "cell_type": "code",
   "execution_count": null,
   "id": "bda64349-b616-4f17-846f-63bae0719ca4",
   "metadata": {},
   "outputs": [
    {
     "name": "stdout",
     "output_type": "stream",
     "text": [
      "\n",
      "✅ News Data Loaded Successfully!\n",
      "        date                                              title  \\\n",
      "0 2010-01-01  Madanjeet Singh to give USD 0.5 million for Ka...   \n",
      "1 2010-01-01                           A new night to celebrate   \n",
      "2 2010-01-01       How Gautam Adani anchors his Rs 30kcr empire   \n",
      "3 2010-01-01   Uttarakhand to go ahead with power privatisation   \n",
      "4 2010-01-01  Scientists use synthetic genome to create life...   \n",
      "\n",
      "                                        news_summary  \n",
      "0  UNESCO Goodwill Ambassador and Founder of the ...  \n",
      "1  India's most innovative deals have finally bee...  \n",
      "2  Adani has seen his ventures prosper at a brisk...  \n",
      "3  Despite vehement political opposition, the Utt...  \n",
      "4  Scientists have shown that a bacterial cell ca...  \n"
     ]
    }
   ],
   "source": [
    "import pandas as pd  # ✅ Import pandas (Fixes the error)\n",
    "\n",
    "# ✅ Load `news_data.csv`\n",
    "news_data = pd.read_csv(\"news_data.csv\")\n",
    "\n",
    "# ✅ Convert `date` Column to Datetime Format\n",
    "news_data['date'] = pd.to_datetime(news_data['date'], dayfirst=True, errors='coerce')\n",
    "\n",
    "print(\"\\n✅ News Data Loaded Successfully!\")\n",
    "print(news_data.head())  # Show first few rows\n"
   ]
  },
  {
   "cell_type": "code",
   "execution_count": null,
   "id": "329346f7-14db-404e-bb96-2bc64d34b943",
   "metadata": {},
   "outputs": [
    {
     "name": "stdout",
     "output_type": "stream",
     "text": [
      "\n",
      "✅ Stock Data Loaded Successfully!\n",
      "                 date    open   high     low   close   volume\n",
      "0 2010-01-04 15:30:00   99.25  100.0   98.60   99.00   370563\n",
      "1 2010-01-05 15:30:00   99.90  112.9   99.50  105.05  8432683\n",
      "2 2010-01-06 15:30:00  106.50  110.8  106.00  107.45  6297126\n",
      "3 2010-01-07 15:30:00  107.45  108.2  104.65  104.95  1229154\n",
      "4 2010-01-08 15:30:00  105.25  107.0  103.15  103.70  1033660\n"
     ]
    }
   ],
   "source": [
    "import pandas as pd  # ✅ Import pandas (Fixes the error)\n",
    "\n",
    "# ✅ Load `stock_data.csv`\n",
    "stock_data = pd.read_csv(\"stock_data.csv\")\n",
    "\n",
    "# ✅ Convert `date` Column to Datetime Format\n",
    "stock_data['date'] = pd.to_datetime(stock_data['date'], dayfirst=True, errors='coerce')\n",
    "\n",
    "print(\"\\n✅ Stock Data Loaded Successfully!\")\n",
    "print(stock_data.head())  # Show first few rows\n"
   ]
  },
  {
   "cell_type": "code",
   "execution_count": null,
   "id": "4c0c2377-0180-4030-89ac-b042944953a9",
   "metadata": {},
   "outputs": [
    {
     "name": "stdout",
     "output_type": "stream",
     "text": [
      "\n",
      "✅ News Data Columns: Index(['date', 'title', 'news_summary'], dtype='object')\n",
      "        date                                              title  \\\n",
      "0 2010-01-01  Madanjeet Singh to give USD 0.5 million for Ka...   \n",
      "1 2010-01-01                           A new night to celebrate   \n",
      "2 2010-01-01       How Gautam Adani anchors his Rs 30kcr empire   \n",
      "3 2010-01-01   Uttarakhand to go ahead with power privatisation   \n",
      "4 2010-01-01  Scientists use synthetic genome to create life...   \n",
      "\n",
      "                                        news_summary  \n",
      "0  UNESCO Goodwill Ambassador and Founder of the ...  \n",
      "1  India's most innovative deals have finally bee...  \n",
      "2  Adani has seen his ventures prosper at a brisk...  \n",
      "3  Despite vehement political opposition, the Utt...  \n",
      "4  Scientists have shown that a bacterial cell ca...  \n"
     ]
    }
   ],
   "source": [
    "print(\"\\n✅ News Data Columns:\", news_data.columns)\n",
    "print(news_data.head())  # Display first few rows\n"
   ]
  },
  {
   "cell_type": "code",
   "execution_count": null,
   "id": "f9910463-02c4-49ed-9391-712f29654d83",
   "metadata": {},
   "outputs": [
    {
     "name": "stdout",
     "output_type": "stream",
     "text": [
      "\n",
      "✅ Loading Sentiment Analysis Model...\n"
     ]
    },
    {
     "name": "stderr",
     "output_type": "stream",
     "text": [
      "Device set to use cpu\n"
     ]
    },
    {
     "name": "stdout",
     "output_type": "stream",
     "text": [
      "\n",
      "✅ Model Loaded Successfully!\n"
     ]
    }
   ],
   "source": [
    "from transformers import pipeline\n",
    "\n",
    "# ✅ Ensure Sentiment Model is Preloaded (to avoid repeated downloads)\n",
    "model_name = \"distilbert-base-uncased-finetuned-sst-2-english\"\n",
    "\n",
    "print(\"\\n✅ Loading Sentiment Analysis Model...\")\n",
    "sentiment_pipeline = pipeline(\"sentiment-analysis\", model=model_name, device=-1)  # Use CPU\n",
    "print(\"\\n✅ Model Loaded Successfully!\")\n"
   ]
  },
  {
   "cell_type": "code",
   "execution_count": null,
   "id": "c330e441-80ff-45e2-a0b7-d102e7fcb322",
   "metadata": {},
   "outputs": [
    {
     "name": "stdout",
     "output_type": "stream",
     "text": [
      "\n",
      "✅ News Data Loaded & Date Conversion Successful!\n",
      "        date                                              title  \\\n",
      "0 2010-01-01  Madanjeet Singh to give USD 0.5 million for Ka...   \n",
      "1 2010-01-01                           A new night to celebrate   \n",
      "2 2010-01-01       How Gautam Adani anchors his Rs 30kcr empire   \n",
      "3 2010-01-01   Uttarakhand to go ahead with power privatisation   \n",
      "4 2010-01-01  Scientists use synthetic genome to create life...   \n",
      "\n",
      "                                        news_summary  \n",
      "0  UNESCO Goodwill Ambassador and Founder of the ...  \n",
      "1  India's most innovative deals have finally bee...  \n",
      "2  Adani has seen his ventures prosper at a brisk...  \n",
      "3  Despite vehement political opposition, the Utt...  \n",
      "4  Scientists have shown that a bacterial cell ca...  \n"
     ]
    }
   ],
   "source": [
    "import pandas as pd  # Ensure pandas is imported\n",
    "\n",
    "# ✅ Load `news_data.csv` Again\n",
    "news_data = pd.read_csv(\"news_data.csv\")\n",
    "\n",
    "# ✅ Convert `date` Column to Datetime Format (Ensure Proper Format)\n",
    "news_data['date'] = pd.to_datetime(news_data['date'], dayfirst=True, errors='coerce')\n",
    "\n",
    "print(\"\\n✅ News Data Loaded & Date Conversion Successful!\")\n",
    "print(news_data.head())  # Verify output\n"
   ]
  },
  {
   "cell_type": "code",
   "execution_count": null,
   "id": "ae6479ba-3578-424a-bcaa-553355286ff4",
   "metadata": {},
   "outputs": [
    {
     "name": "stdout",
     "output_type": "stream",
     "text": [
      "\n",
      "✅ Date Conversion Successful!\n",
      "        date                                              title  \\\n",
      "0 2010-01-01  Madanjeet Singh to give USD 0.5 million for Ka...   \n",
      "1 2010-01-01                           A new night to celebrate   \n",
      "2 2010-01-01       How Gautam Adani anchors his Rs 30kcr empire   \n",
      "3 2010-01-01   Uttarakhand to go ahead with power privatisation   \n",
      "4 2010-01-01  Scientists use synthetic genome to create life...   \n",
      "\n",
      "                                        news_summary  \n",
      "0  UNESCO Goodwill Ambassador and Founder of the ...  \n",
      "1  India's most innovative deals have finally bee...  \n",
      "2  Adani has seen his ventures prosper at a brisk...  \n",
      "3  Despite vehement political opposition, the Utt...  \n",
      "4  Scientists have shown that a bacterial cell ca...  \n"
     ]
    }
   ],
   "source": [
    "import pandas as pd  # Make sure pandas is imported\n",
    "\n",
    "# ✅ Convert `date` Column to Datetime Format (Ensure Proper Format)\n",
    "news_data['date'] = pd.to_datetime(news_data['date'], dayfirst=True, errors='coerce')\n",
    "\n",
    "print(\"\\n✅ Date Conversion Successful!\")\n",
    "print(news_data.head())  # Verify the output\n"
   ]
  },
  {
   "cell_type": "code",
   "execution_count": null,
   "id": "a784f8a6-1a07-4357-af8f-686e44259189",
   "metadata": {},
   "outputs": [
    {
     "name": "stdout",
     "output_type": "stream",
     "text": [
      "\n",
      "✅ Stock Data Loaded & Date Conversion Successful!\n",
      "                 date    open   high     low   close   volume\n",
      "0 2010-01-04 15:30:00   99.25  100.0   98.60   99.00   370563\n",
      "1 2010-01-05 15:30:00   99.90  112.9   99.50  105.05  8432683\n",
      "2 2010-01-06 15:30:00  106.50  110.8  106.00  107.45  6297126\n",
      "3 2010-01-07 15:30:00  107.45  108.2  104.65  104.95  1229154\n",
      "4 2010-01-08 15:30:00  105.25  107.0  103.15  103.70  1033660\n"
     ]
    }
   ],
   "source": [
    "# ✅ Load `stock_data.csv` Again\n",
    "stock_data = pd.read_csv(\"stock_data.csv\")\n",
    "\n",
    "# ✅ Convert `date` Column in Stock Data\n",
    "stock_data['date'] = pd.to_datetime(stock_data['date'], format='%d/%m/%Y %H:%M:%S', errors='coerce')\n",
    "\n",
    "print(\"\\n✅ Stock Data Loaded & Date Conversion Successful!\")\n",
    "print(stock_data.head())  # Verify output\n"
   ]
  },
  {
   "cell_type": "code",
   "execution_count": null,
   "id": "236f7d8b-c97f-42dd-a00e-da6c6a868f7c",
   "metadata": {},
   "outputs": [
    {
     "name": "stdout",
     "output_type": "stream",
     "text": [
      "\n",
      "✅ News Data Columns Before Merging: Index(['date', 'title', 'news_summary'], dtype='object')\n",
      "        date                                              title  \\\n",
      "0 2010-01-01  Madanjeet Singh to give USD 0.5 million for Ka...   \n",
      "1 2010-01-01                           A new night to celebrate   \n",
      "2 2010-01-01       How Gautam Adani anchors his Rs 30kcr empire   \n",
      "3 2010-01-01   Uttarakhand to go ahead with power privatisation   \n",
      "4 2010-01-01  Scientists use synthetic genome to create life...   \n",
      "\n",
      "                                        news_summary  \n",
      "0  UNESCO Goodwill Ambassador and Founder of the ...  \n",
      "1  India's most innovative deals have finally bee...  \n",
      "2  Adani has seen his ventures prosper at a brisk...  \n",
      "3  Despite vehement political opposition, the Utt...  \n",
      "4  Scientists have shown that a bacterial cell ca...  \n"
     ]
    }
   ],
   "source": [
    "# ✅ Print `news_data` Columns Before Merging\n",
    "print(\"\\n✅ News Data Columns Before Merging:\", news_data.columns)\n",
    "print(news_data.head())  # Show first few rows\n"
   ]
  },
  {
   "cell_type": "code",
   "execution_count": null,
   "id": "078c7585-4cb7-4fb8-9707-82c5e9f74d5d",
   "metadata": {},
   "outputs": [
    {
     "name": "stdout",
     "output_type": "stream",
     "text": [
      "WARNING:tensorflow:From C:\\Users\\sharm\\.conda\\envs\\tf_env\\lib\\site-packages\\keras\\src\\losses.py:2976: The name tf.losses.sparse_softmax_cross_entropy is deprecated. Please use tf.compat.v1.losses.sparse_softmax_cross_entropy instead.\n",
      "\n"
     ]
    },
    {
     "name": "stderr",
     "output_type": "stream",
     "text": [
      "Device set to use cpu\n"
     ]
    },
    {
     "ename": "NameError",
     "evalue": "name 'news_data' is not defined",
     "output_type": "error",
     "traceback": [
      "\u001b[1;31m---------------------------------------------------------------------------\u001b[0m",
      "\u001b[1;31mNameError\u001b[0m                                 Traceback (most recent call last)",
      "Cell \u001b[1;32mIn[1], line 7\u001b[0m\n\u001b[0;32m      4\u001b[0m sentiment_pipeline \u001b[38;5;241m=\u001b[39m pipeline(\u001b[38;5;124m\"\u001b[39m\u001b[38;5;124msentiment-analysis\u001b[39m\u001b[38;5;124m\"\u001b[39m, model\u001b[38;5;241m=\u001b[39m\u001b[38;5;124m\"\u001b[39m\u001b[38;5;124mdistilbert-base-uncased-finetuned-sst-2-english\u001b[39m\u001b[38;5;124m\"\u001b[39m, device\u001b[38;5;241m=\u001b[39m\u001b[38;5;241m-\u001b[39m\u001b[38;5;241m1\u001b[39m)\n\u001b[0;32m      6\u001b[0m \u001b[38;5;66;03m# ✅ Apply Sentiment Analysis Again (if missing)\u001b[39;00m\n\u001b[1;32m----> 7\u001b[0m \u001b[38;5;28;01mif\u001b[39;00m \u001b[38;5;124m'\u001b[39m\u001b[38;5;124msentiment\u001b[39m\u001b[38;5;124m'\u001b[39m \u001b[38;5;129;01mnot\u001b[39;00m \u001b[38;5;129;01min\u001b[39;00m \u001b[43mnews_data\u001b[49m\u001b[38;5;241m.\u001b[39mcolumns:\n\u001b[0;32m      8\u001b[0m     \u001b[38;5;28mprint\u001b[39m(\u001b[38;5;124m\"\u001b[39m\u001b[38;5;130;01m\\n\u001b[39;00m\u001b[38;5;124m⚠️ Sentiment column missing! Running sentiment analysis again...\u001b[39m\u001b[38;5;124m\"\u001b[39m)\n\u001b[0;32m      9\u001b[0m     news_data[\u001b[38;5;124m'\u001b[39m\u001b[38;5;124msentiment\u001b[39m\u001b[38;5;124m'\u001b[39m] \u001b[38;5;241m=\u001b[39m news_data[\u001b[38;5;124m'\u001b[39m\u001b[38;5;124mnews_summary\u001b[39m\u001b[38;5;124m'\u001b[39m]\u001b[38;5;241m.\u001b[39mapply(\u001b[38;5;28;01mlambda\u001b[39;00m x: sentiment_pipeline(x)[\u001b[38;5;241m0\u001b[39m][\u001b[38;5;124m'\u001b[39m\u001b[38;5;124mlabel\u001b[39m\u001b[38;5;124m'\u001b[39m])\n",
      "\u001b[1;31mNameError\u001b[0m: name 'news_data' is not defined"
     ]
    }
   ],
   "source": [
    "from transformers import pipeline\n",
    "\n",
    "# ✅ Reload Sentiment Model\n",
    "sentiment_pipeline = pipeline(\"sentiment-analysis\", model=\"distilbert-base-uncased-finetuned-sst-2-english\", device=-1)\n",
    "\n",
    "# ✅ Apply Sentiment Analysis Again (if missing)\n",
    "if 'sentiment' not in news_data.columns:\n",
    "    print(\"\\n⚠️ Sentiment column missing! Running sentiment analysis again...\")\n",
    "    news_data['sentiment'] = news_data['news_summary'].apply(lambda x: sentiment_pipeline(x)[0]['label'])\n",
    "    news_data['sentiment'] = news_data['sentiment'].map({'POSITIVE': 1, 'NEGATIVE': -1})  # Convert to numeric\n",
    "\n",
    "print(\"\\n✅ Sentiment Column Fixed!\")\n",
    "print(news_data.head())  # Verify Sentiment Column\n"
   ]
  },
  {
   "cell_type": "code",
   "execution_count": null,
   "id": "2ae7ceeb-a414-4f27-8837-bf21c4d74b25",
   "metadata": {},
   "outputs": [
    {
     "name": "stdout",
     "output_type": "stream",
     "text": [
      "\n",
      "✅ News Data Loaded Successfully!\n",
      "         date                                              title  \\\n",
      "0  01/01/2010  Madanjeet Singh to give USD 0.5 million for Ka...   \n",
      "1  01/01/2010                           A new night to celebrate   \n",
      "2  01/01/2010       How Gautam Adani anchors his Rs 30kcr empire   \n",
      "3  01/01/2010   Uttarakhand to go ahead with power privatisation   \n",
      "4  01/01/2010  Scientists use synthetic genome to create life...   \n",
      "\n",
      "                                        news_summary  \n",
      "0  UNESCO Goodwill Ambassador and Founder of the ...  \n",
      "1  India's most innovative deals have finally bee...  \n",
      "2  Adani has seen his ventures prosper at a brisk...  \n",
      "3  Despite vehement political opposition, the Utt...  \n",
      "4  Scientists have shown that a bacterial cell ca...  \n"
     ]
    }
   ],
   "source": [
    "import pandas as pd\n",
    "\n",
    "# ✅ Load News Data Again\n",
    "news_data = pd.read_csv(\"news_data.csv\")\n",
    "\n",
    "# ✅ Check if `news_data` exists & contains the right columns\n",
    "print(\"\\n✅ News Data Loaded Successfully!\")\n",
    "print(news_data.head())  # Display first few rows\n"
   ]
  },
  {
   "cell_type": "code",
   "execution_count": null,
   "id": "92bc633d-34a5-4950-a66a-95df0a39c344",
   "metadata": {},
   "outputs": [
    {
     "name": "stderr",
     "output_type": "stream",
     "text": [
      "Device set to use cpu\n"
     ]
    },
    {
     "name": "stdout",
     "output_type": "stream",
     "text": [
      "\n",
      "✅ Running Sentiment Analysis on News Data...\n"
     ]
    },
    {
     "name": "stderr",
     "output_type": "stream",
     "text": [
      "100%|██████████| 7460/7460 [09:53<00:00, 12.56it/s]"
     ]
    },
    {
     "name": "stdout",
     "output_type": "stream",
     "text": [
      "\n",
      "✅ Sentiment Analysis Completed!\n",
      "         date                                              title  \\\n",
      "0  01/01/2010  Madanjeet Singh to give USD 0.5 million for Ka...   \n",
      "1  01/01/2010                           A new night to celebrate   \n",
      "2  01/01/2010       How Gautam Adani anchors his Rs 30kcr empire   \n",
      "3  01/01/2010   Uttarakhand to go ahead with power privatisation   \n",
      "4  01/01/2010  Scientists use synthetic genome to create life...   \n",
      "\n",
      "                                        news_summary  sentiment  \n",
      "0  UNESCO Goodwill Ambassador and Founder of the ...          1  \n",
      "1  India's most innovative deals have finally bee...          1  \n",
      "2  Adani has seen his ventures prosper at a brisk...          1  \n",
      "3  Despite vehement political opposition, the Utt...          1  \n",
      "4  Scientists have shown that a bacterial cell ca...          1  \n"
     ]
    },
    {
     "name": "stderr",
     "output_type": "stream",
     "text": [
      "\n"
     ]
    }
   ],
   "source": [
    "from tqdm import tqdm  # ✅ Shows a progress bar\n",
    "\n",
    "# ✅ Ensure Sentiment Model is Preloaded\n",
    "model_name = \"distilbert-base-uncased-finetuned-sst-2-english\"\n",
    "sentiment_pipeline = pipeline(\"sentiment-analysis\", model=model_name, device=-1)\n",
    "\n",
    "# ✅ Apply Sentiment Analysis with Progress Display\n",
    "print(\"\\n✅ Running Sentiment Analysis on News Data...\")\n",
    "tqdm.pandas()  # Enable progress bar\n",
    "news_data['sentiment'] = news_data['news_summary'].progress_apply(lambda x: sentiment_pipeline(x)[0]['label'])\n",
    "\n",
    "# ✅ Convert to Numeric\n",
    "news_data['sentiment'] = news_data['sentiment'].map({'POSITIVE': 1, 'NEGATIVE': -1})\n",
    "\n",
    "print(\"\\n✅ Sentiment Analysis Completed!\")\n",
    "print(news_data.head())  # Verify output\n"
   ]
  },
  {
   "cell_type": "code",
   "execution_count": null,
   "id": "d8a9a2fc-4399-4497-9c3a-ededcccd7ed7",
   "metadata": {},
   "outputs": [
    {
     "name": "stdout",
     "output_type": "stream",
     "text": [
      "\n",
      "✅ Sentiment Data Saved Successfully!\n"
     ]
    }
   ],
   "source": [
    "news_data.to_csv(\"news_data_with_sentiment.csv\", index=False)\n",
    "print(\"\\n✅ Sentiment Data Saved Successfully!\")\n"
   ]
  },
  {
   "cell_type": "code",
   "execution_count": null,
   "id": "8e01201a-64bd-4188-8c51-46641014f6aa",
   "metadata": {},
   "outputs": [
    {
     "name": "stdout",
     "output_type": "stream",
     "text": [
      "\n",
      "✅ Stock Data Loaded Successfully!\n",
      "                  date    open   high     low   close   volume\n",
      "0  04/01/2010 15:30:00   99.25  100.0   98.60   99.00   370563\n",
      "1  05/01/2010 15:30:00   99.90  112.9   99.50  105.05  8432683\n",
      "2  06/01/2010 15:30:00  106.50  110.8  106.00  107.45  6297126\n",
      "3  07/01/2010 15:30:00  107.45  108.2  104.65  104.95  1229154\n",
      "4  08/01/2010 15:30:00  105.25  107.0  103.15  103.70  1033660\n"
     ]
    }
   ],
   "source": [
    "import pandas as pd\n",
    "\n",
    "# ✅ Load Stock Data Again\n",
    "stock_data = pd.read_csv(\"stock_data.csv\")\n",
    "\n",
    "# ✅ Check if `stock_data` exists & contains the right columns\n",
    "print(\"\\n✅ Stock Data Loaded Successfully!\")\n",
    "print(stock_data.head())  # Display first few rows\n"
   ]
  },
  {
   "cell_type": "code",
   "execution_count": null,
   "id": "3425ff13-878c-4b28-a3cd-9604fb7b4ee2",
   "metadata": {},
   "outputs": [
    {
     "name": "stdout",
     "output_type": "stream",
     "text": [
      "\n",
      "✅ Date Conversion Successful!\n"
     ]
    }
   ],
   "source": [
    "# ✅ Convert `date` to datetime format\n",
    "stock_data['date'] = pd.to_datetime(stock_data['date'], dayfirst=True, errors='coerce')\n",
    "news_data['date'] = pd.to_datetime(news_data['date'], dayfirst=True, errors='coerce')\n",
    "\n",
    "print(\"\\n✅ Date Conversion Successful!\")\n"
   ]
  },
  {
   "cell_type": "code",
   "execution_count": null,
   "id": "03499b3c-c75e-4817-bece-8c9fa184fd3e",
   "metadata": {},
   "outputs": [
    {
     "name": "stdout",
     "output_type": "stream",
     "text": [
      "\n",
      "✅ Merging Completed!\n",
      "\n",
      "✅ Merged Data Columns: Index(['date', 'open', 'high', 'low', 'close', 'volume', 'sentiment'], dtype='object')\n",
      "\n",
      "✅ Merged Data Sample:\n",
      "                  date    open   high     low   close   volume  sentiment\n",
      "0 2010-01-04 15:30:00   99.25  100.0   98.60   99.00   370563        0.0\n",
      "1 2010-01-05 15:30:00   99.90  112.9   99.50  105.05  8432683        0.0\n",
      "2 2010-01-06 15:30:00  106.50  110.8  106.00  107.45  6297126        0.0\n",
      "3 2010-01-07 15:30:00  107.45  108.2  104.65  104.95  1229154        0.0\n",
      "4 2010-01-08 15:30:00  105.25  107.0  103.15  103.70  1033660        0.0\n"
     ]
    }
   ],
   "source": [
    "# ✅ Merge Stock & News Data on 'date'\n",
    "merged_data = pd.merge(stock_data, news_data[['date', 'sentiment']], on='date', how='left').fillna(0)\n",
    "\n",
    "print(\"\\n✅ Merging Completed!\")\n",
    "print(\"\\n✅ Merged Data Columns:\", merged_data.columns)\n",
    "print(\"\\n✅ Merged Data Sample:\\n\", merged_data.head())\n"
   ]
  },
  {
   "cell_type": "code",
   "execution_count": null,
   "id": "1efc85a4-a1b0-44be-9419-1fa1657f34df",
   "metadata": {},
   "outputs": [
    {
     "name": "stdout",
     "output_type": "stream",
     "text": [
      "\n",
      "✅ Features & Targets Ready!\n",
      "X Shape: (3550, 2), y_close Shape: (3550,), y_open Shape: (3550,)\n"
     ]
    }
   ],
   "source": [
    "# ✅ Prepare features and targets\n",
    "X = merged_data[['sentiment', 'volume']]  # Features\n",
    "y_close = merged_data['close']\n",
    "y_open = merged_data['open']\n",
    "\n",
    "print(\"\\n✅ Features & Targets Ready!\")\n",
    "print(f\"X Shape: {X.shape}, y_close Shape: {y_close.shape}, y_open Shape: {y_open.shape}\")\n"
   ]
  },
  {
   "cell_type": "code",
   "execution_count": null,
   "id": "ff7c2186-2d22-4ba1-9efb-7a9fc4fbf5be",
   "metadata": {},
   "outputs": [
    {
     "name": "stdout",
     "output_type": "stream",
     "text": [
      "\n",
      "✅ Missing Values Handled Successfully!\n"
     ]
    }
   ],
   "source": [
    "from sklearn.impute import SimpleImputer\n",
    "\n",
    "# ✅ Initialize Imputers\n",
    "imputer_X = SimpleImputer(strategy='mean')  # Fill missing values in X\n",
    "imputer_y_close = SimpleImputer(strategy='mean')  # Fill missing values in y_close\n",
    "imputer_y_open = SimpleImputer(strategy='mean')  # Fill missing values in y_open\n",
    "\n",
    "# ✅ Apply Imputation\n",
    "X = imputer_X.fit_transform(X)\n",
    "y_close = imputer_y_close.fit_transform(y_close.values.reshape(-1, 1)).ravel()\n",
    "y_open = imputer_y_open.fit_transform(y_open.values.reshape(-1, 1)).ravel()\n",
    "\n",
    "print(\"\\n✅ Missing Values Handled Successfully!\")\n"
   ]
  },
  {
   "cell_type": "code",
   "execution_count": null,
   "id": "7e92252c-6e01-4413-9ee4-cf454ec815af",
   "metadata": {},
   "outputs": [
    {
     "name": "stdout",
     "output_type": "stream",
     "text": [
      "\n",
      "✅ Reshaping Complete!\n",
      "X Shape after Reshaping: (3550, 1, 2)\n"
     ]
    }
   ],
   "source": [
    "import numpy as np\n",
    "\n",
    "# ✅ Reshape X for LSTM (samples, time_steps=1, features=2)\n",
    "X = np.reshape(X, (X.shape[0], 1, X.shape[1]))\n",
    "\n",
    "print(\"\\n✅ Reshaping Complete!\")\n",
    "print(f\"X Shape after Reshaping: {X.shape}\")  # Should be (num_samples, 1, 2)\n"
   ]
  },
  {
   "cell_type": "code",
   "execution_count": null,
   "id": "fe0cc888-1efc-49f5-8356-8f9f37f87829",
   "metadata": {},
   "outputs": [
    {
     "name": "stdout",
     "output_type": "stream",
     "text": [
      "\n",
      "✅ Data Splitting Successful!\n",
      "X_train Shape: (2840, 1, 2), X_test Shape: (710, 1, 2)\n",
      "y_train_close Shape: (2840,), y_test_close Shape: (710,)\n",
      "y_train_open Shape: (2840,), y_test_open Shape: (710,)\n"
     ]
    }
   ],
   "source": [
    "from sklearn.model_selection import train_test_split\n",
    "\n",
    "# ✅ Split data into training (80%) & testing (20%)\n",
    "X_train, X_test, y_train_close, y_test_close = train_test_split(X, y_close, test_size=0.2, shuffle=False)\n",
    "_, _, y_train_open, y_test_open = train_test_split(X, y_open, test_size=0.2, shuffle=False)\n",
    "\n",
    "print(\"\\n✅ Data Splitting Successful!\")\n",
    "print(f\"X_train Shape: {X_train.shape}, X_test Shape: {X_test.shape}\")\n",
    "print(f\"y_train_close Shape: {y_train_close.shape}, y_test_close Shape: {y_test_close.shape}\")\n",
    "print(f\"y_train_open Shape: {y_train_open.shape}, y_test_open Shape: {y_test_open.shape}\")\n"
   ]
  },
  {
   "cell_type": "code",
   "execution_count": null,
   "id": "f5f6b450-e571-4784-86f4-d3450ce4748c",
   "metadata": {},
   "outputs": [
    {
     "name": "stdout",
     "output_type": "stream",
     "text": [
      "WARNING:tensorflow:From C:\\Users\\sharm\\.conda\\envs\\tf_env\\lib\\site-packages\\keras\\src\\layers\\rnn\\lstm.py:148: The name tf.executing_eagerly_outside_functions is deprecated. Please use tf.compat.v1.executing_eagerly_outside_functions instead.\n",
      "\n",
      "WARNING:tensorflow:From C:\\Users\\sharm\\.conda\\envs\\tf_env\\lib\\site-packages\\keras\\src\\optimizers\\__init__.py:309: The name tf.train.Optimizer is deprecated. Please use tf.compat.v1.train.Optimizer instead.\n",
      "\n",
      "\n",
      "✅ LSTM Models Created!\n"
     ]
    }
   ],
   "source": [
    "import tensorflow as tf\n",
    "from tensorflow.keras.models import Sequential\n",
    "from tensorflow.keras.layers import LSTM, Dense\n",
    "\n",
    "# ✅ Define LSTM Model\n",
    "def build_lstm_model():\n",
    "    model = Sequential([\n",
    "        LSTM(64, input_shape=(1, 2), return_sequences=False),\n",
    "        Dense(1)\n",
    "    ])\n",
    "    model.compile(loss=tf.keras.losses.MeanSquaredError(), optimizer='adam')\n",
    "    return model\n",
    "\n",
    "# ✅ Create Models for Close & Open Prices\n",
    "model_close = build_lstm_model()\n",
    "model_open = build_lstm_model()\n",
    "\n",
    "print(\"\\n✅ LSTM Models Created!\")\n"
   ]
  },
  {
   "cell_type": "code",
   "execution_count": null,
   "id": "7419cffa-a7d0-4402-80e3-85ab3123a51f",
   "metadata": {},
   "outputs": [
    {
     "name": "stdout",
     "output_type": "stream",
     "text": [
      "\n",
      "✅ Training LSTM Model for Closing Price...\n",
      "Epoch 1/10\n",
      "WARNING:tensorflow:From C:\\Users\\sharm\\.conda\\envs\\tf_env\\lib\\site-packages\\keras\\src\\utils\\tf_utils.py:492: The name tf.ragged.RaggedTensorValue is deprecated. Please use tf.compat.v1.ragged.RaggedTensorValue instead.\n",
      "\n",
      "178/178 [==============================] - 3s 4ms/step - loss: 4026.5369\n",
      "Epoch 2/10\n",
      "178/178 [==============================] - 1s 3ms/step - loss: 3754.2693\n",
      "Epoch 3/10\n",
      "178/178 [==============================] - 1s 4ms/step - loss: 3500.0596\n",
      "Epoch 4/10\n",
      "178/178 [==============================] - 1s 3ms/step - loss: 3263.2634\n",
      "Epoch 5/10\n",
      "178/178 [==============================] - 1s 3ms/step - loss: 3043.3416\n",
      "Epoch 6/10\n",
      "178/178 [==============================] - 1s 3ms/step - loss: 2839.4226\n",
      "Epoch 7/10\n",
      "178/178 [==============================] - 0s 2ms/step - loss: 2650.6721\n",
      "Epoch 8/10\n",
      "178/178 [==============================] - 0s 3ms/step - loss: 2476.0171\n",
      "Epoch 9/10\n",
      "178/178 [==============================] - 0s 2ms/step - loss: 2314.6660\n",
      "Epoch 10/10\n",
      "178/178 [==============================] - 0s 2ms/step - loss: 2166.0771\n",
      "\n",
      "✅ Training LSTM Model for Opening Price...\n",
      "Epoch 1/10\n",
      "178/178 [==============================] - 3s 2ms/step - loss: 4006.9453\n",
      "Epoch 2/10\n",
      "178/178 [==============================] - 0s 3ms/step - loss: 3749.1917\n",
      "Epoch 3/10\n",
      "178/178 [==============================] - 0s 3ms/step - loss: 3507.7156\n",
      "Epoch 4/10\n",
      "178/178 [==============================] - 0s 2ms/step - loss: 3282.3904\n",
      "Epoch 5/10\n",
      "178/178 [==============================] - 0s 3ms/step - loss: 3071.6646\n",
      "Epoch 6/10\n",
      "178/178 [==============================] - 0s 2ms/step - loss: 2875.7400\n",
      "Epoch 7/10\n",
      "178/178 [==============================] - 0s 3ms/step - loss: 2693.9443\n",
      "Epoch 8/10\n",
      "178/178 [==============================] - 0s 2ms/step - loss: 2524.9187\n",
      "Epoch 9/10\n",
      "178/178 [==============================] - 0s 2ms/step - loss: 2367.8469\n",
      "Epoch 10/10\n",
      "178/178 [==============================] - 1s 4ms/step - loss: 2222.2249\n",
      "\n",
      "✅ Model Training Completed!\n"
     ]
    }
   ],
   "source": [
    "# ✅ Train Closing Price Model\n",
    "print(\"\\n✅ Training LSTM Model for Closing Price...\")\n",
    "model_close.fit(X_train, y_train_close, epochs=10, batch_size=16, verbose=1)\n",
    "\n",
    "# ✅ Train Opening Price Model\n",
    "print(\"\\n✅ Training LSTM Model for Opening Price...\")\n",
    "model_open.fit(X_train, y_train_open, epochs=10, batch_size=16, verbose=1)\n",
    "\n",
    "print(\"\\n✅ Model Training Completed!\")\n"
   ]
  },
  {
   "cell_type": "code",
   "execution_count": null,
   "id": "1248f208-9fd7-49ed-a4d0-72f445891b34",
   "metadata": {},
   "outputs": [
    {
     "name": "stdout",
     "output_type": "stream",
     "text": [
      "23/23 [==============================] - 1s 2ms/step\n",
      "23/23 [==============================] - 1s 2ms/step\n",
      "\n",
      "✅ Model Evaluation Completed!\n",
      "LSTM MSE (Close): 95228.92355165331\n",
      "LSTM MSE (Open): 95758.55222107114\n"
     ]
    }
   ],
   "source": [
    "from sklearn.metrics import mean_squared_error\n",
    "\n",
    "# ✅ Make Predictions\n",
    "y_pred_close = model_close.predict(X_test)\n",
    "y_pred_open = model_open.predict(X_test)\n",
    "\n",
    "# ✅ Calculate Mean Squared Error (Lower is better)\n",
    "mse_close = mean_squared_error(y_test_close, y_pred_close)\n",
    "mse_open = mean_squared_error(y_test_open, y_pred_open)\n",
    "\n",
    "print(f\"\\n✅ Model Evaluation Completed!\")\n",
    "print(f\"LSTM MSE (Close): {mse_close}\")\n",
    "print(f\"LSTM MSE (Open): {mse_open}\")\n"
   ]
  },
  {
   "cell_type": "code",
   "execution_count": null,
   "id": "d9820da8-7b5e-489e-9799-c9dec1bd51ec",
   "metadata": {},
   "outputs": [
    {
     "name": "stdout",
     "output_type": "stream",
     "text": [
      "\n",
      "✅ Models Saved Successfully!\n"
     ]
    },
    {
     "name": "stderr",
     "output_type": "stream",
     "text": [
      "C:\\Users\\sharm\\.conda\\envs\\tf_env\\lib\\site-packages\\keras\\src\\engine\\training.py:3103: UserWarning: You are saving your model as an HDF5 file via `model.save()`. This file format is considered legacy. We recommend using instead the native Keras format, e.g. `model.save('my_model.keras')`.\n",
      "  saving_api.save_model(\n"
     ]
    }
   ],
   "source": [
    "# ✅ Save Trained Models\n",
    "model_close.save('stock_price_model_close.h5')\n",
    "model_open.save('stock_price_model_open.h5')\n",
    "\n",
    "print(\"\\n✅ Models Saved Successfully!\")\n"
   ]
  },
  {
   "cell_type": "code",
   "execution_count": null,
   "id": "ed683e4b-30aa-4733-8d3a-c517ef82efc2",
   "metadata": {},
   "outputs": [
    {
     "name": "stdout",
     "output_type": "stream",
     "text": [
      "\n",
      "✅ Current Working Directory: C:\\Users\\sharm\\GDG Stock market model\n"
     ]
    }
   ],
   "source": [
    "import os\n",
    "print(\"\\n✅ Current Working Directory:\", os.getcwd())\n"
   ]
  },
  {
   "cell_type": "code",
   "execution_count": null,
   "id": "deddcdec-17de-457d-9255-eaf688ca9711",
   "metadata": {},
   "outputs": [
    {
     "name": "stdout",
     "output_type": "stream",
     "text": [
      "\n",
      "❌ File Not Found! Please ensure 'new_news_data.csv' is in: C:\\Users\\sharm\\GDG Stock market model\n"
     ]
    }
   ],
   "source": [
    "import os\n",
    "\n",
    "file_path = \"new_news_data.csv\"\n",
    "\n",
    "if os.path.exists(file_path):\n",
    "    print(\"\\n✅ File Found: new_news_data.csv\")\n",
    "else:\n",
    "    print(\"\\n❌ File Not Found! Please ensure 'new_news_data.csv' is in:\", os.getcwd())\n"
   ]
  },
  {
   "cell_type": "code",
   "execution_count": null,
   "id": "cc09a0ef-6041-4d24-bb45-611267efe177",
   "metadata": {},
   "outputs": [
    {
     "name": "stdout",
     "output_type": "stream",
     "text": [
      "1/1 [==============================] - 0s 203ms/step\n",
      "1/1 [==============================] - 0s 213ms/step\n",
      "\n",
      "✅ Predictions Saved Successfully!\n",
      "\n",
      "✅ Predictions:\n",
      "         date                                              title  \\\n",
      "0 2024-06-01  Adani Power ups capacity addition targets agai...   \n",
      "1 2024-06-01  Adani Green Energy becomes India's first to su...   \n",
      "2 2024-06-01  Adani Power to set up 1600 MW greenfield power...   \n",
      "3 2024-06-01  Ambani and Adani unite: Reliance acquires 26% ...   \n",
      "4 2024-06-01  In a first, Reliance buys 26% stake in Adani P...   \n",
      "\n",
      "                                        news_summary  sentiment  volume  \\\n",
      "0  Adani Power now aims to take capacity to more ...         -1       0   \n",
      "1  Adani Green Energy becomes India's first to su...          1       0   \n",
      "2  Adani Power embarked on building a 1600 MW ult...          1       0   \n",
      "3  Mukesh Ambani's Reliance Industries has picked...          1       0   \n",
      "4  Mahan Energen Ltd (MEL), a wholly owned subsid...         -1       0   \n",
      "\n",
      "   predicted_close  predicted_open  predicted_avg  \n",
      "0         7.474301        6.925634       7.199967  \n",
      "1         7.902989        7.510152       7.706571  \n",
      "2         7.902989        7.510152       7.706571  \n",
      "3         7.902989        7.510152       7.706571  \n",
      "4         7.474301        6.925634       7.199967  \n"
     ]
    }
   ],
   "source": [
    "predictions = predict_stock_price('new_news_data.csv', 'predicted_stock_prices.csv')\n",
    "print(\"\\n✅ Predictions:\\n\", predictions.head())\n"
   ]
  },
  {
   "cell_type": "code",
   "execution_count": null,
   "id": "30a834cd-9492-46b6-82c9-f52e2745a9d2",
   "metadata": {},
   "outputs": [
    {
     "name": "stdout",
     "output_type": "stream",
     "text": [
      "1/1 [==============================] - 0s 209ms/step\n",
      "WARNING:tensorflow:5 out of the last 27 calls to <function Model.make_predict_function.<locals>.predict_function at 0x000001AB0B8469E0> triggered tf.function retracing. Tracing is expensive and the excessive number of tracings could be due to (1) creating @tf.function repeatedly in a loop, (2) passing tensors with different shapes, (3) passing Python objects instead of tensors. For (1), please define your @tf.function outside of the loop. For (2), @tf.function has reduce_retracing=True option that can avoid unnecessary retracing. For (3), please refer to https://www.tensorflow.org/guide/function#controlling_retracing and https://www.tensorflow.org/api_docs/python/tf/function for  more details.\n",
      "1/1 [==============================] - 0s 214ms/step\n",
      "\n",
      "✅ Predictions Saved Successfully!\n",
      "\n",
      "✅ Predictions:\n",
      "         date                                              title  \\\n",
      "0 2024-06-01  Adani Power ups capacity addition targets agai...   \n",
      "1 2024-06-01  Adani Green Energy becomes India's first to su...   \n",
      "2 2024-06-01  Adani Power to set up 1600 MW greenfield power...   \n",
      "3 2024-06-01  Ambani and Adani unite: Reliance acquires 26% ...   \n",
      "4 2024-06-01  In a first, Reliance buys 26% stake in Adani P...   \n",
      "\n",
      "                                        news_summary  sentiment  volume  \\\n",
      "0  Adani Power now aims to take capacity to more ...         -1       0   \n",
      "1  Adani Green Energy becomes India's first to su...          1       0   \n",
      "2  Adani Power embarked on building a 1600 MW ult...          1       0   \n",
      "3  Mukesh Ambani's Reliance Industries has picked...          1       0   \n",
      "4  Mahan Energen Ltd (MEL), a wholly owned subsid...         -1       0   \n",
      "\n",
      "   predicted_close  predicted_open  predicted_avg  \n",
      "0         7.474301        6.925634       7.199967  \n",
      "1         7.902989        7.510152       7.706571  \n",
      "2         7.902989        7.510152       7.706571  \n",
      "3         7.902989        7.510152       7.706571  \n",
      "4         7.474301        6.925634       7.199967  \n"
     ]
    }
   ],
   "source": [
    "def predict_stock_price(news_data_file, output_file):\n",
    "    # ✅ Load new news data\n",
    "    new_data = pd.read_csv(news_data_file)\n",
    "\n",
    "    # ✅ Check required columns\n",
    "    if 'news_summary' not in new_data.columns or 'date' not in new_data.columns:\n",
    "        raise KeyError(\"❌ Required columns are missing in the news data file!\")\n",
    "\n",
    "    # ✅ Process sentiment\n",
    "    new_data['sentiment'] = new_data['news_summary'].apply(lambda x: sentiment_pipeline(x)[0]['label'])\n",
    "    new_data['sentiment'] = new_data['sentiment'].map({'POSITIVE': 1, 'NEGATIVE': -1})\n",
    "    new_data['date'] = pd.to_datetime(new_data['date'], dayfirst=True, errors='coerce')\n",
    "\n",
    "    # ✅ Add missing volume column\n",
    "    if 'volume' not in new_data.columns:\n",
    "        new_data['volume'] = 0\n",
    "\n",
    "    # ✅ Prepare input for LSTM\n",
    "    X_new = new_data[['sentiment', 'volume']]\n",
    "    X_new = imputer_X.transform(X_new)  # Apply same imputer from training\n",
    "    X_new = np.reshape(X_new, (X_new.shape[0], 1, X_new.shape[1]))  # Reshape for LSTM\n",
    "\n",
    "    # ✅ Load Trained Models\n",
    "    lstm_close = tf.keras.models.load_model('stock_price_model_close.h5')\n",
    "    lstm_open = tf.keras.models.load_model('stock_price_model_open.h5')\n",
    "\n",
    "    # ✅ Predict Prices\n",
    "    predictions_close = lstm_close.predict(X_new).ravel()\n",
    "    predictions_open = lstm_open.predict(X_new).ravel()\n",
    "\n",
    "    new_data['predicted_close'] = predictions_close\n",
    "    new_data['predicted_open'] = predictions_open\n",
    "    new_data['predicted_avg'] = (predictions_open + predictions_close) / 2\n",
    "\n",
    "    # ✅ Save Predictions\n",
    "    new_data.to_csv(output_file, index=False)\n",
    "    print(\"\\n✅ Predictions Saved Successfully!\")\n",
    "\n",
    "    return new_data\n",
    "\n",
    "# ✅ Run Prediction\n",
    "predictions = predict_stock_price('new_news_data.csv', 'predicted_stock_prices.csv')\n",
    "print(\"\\n✅ Predictions:\\n\", predictions.head())\n"
   ]
  },
  {
   "cell_type": "code",
   "execution_count": null,
   "id": "81ce1765-a7a2-4c20-96f6-83e1abf7f6fb",
   "metadata": {},
   "outputs": [
    {
     "name": "stdout",
     "output_type": "stream",
     "text": [
      "\n",
      "📊 **Model Evaluation Metrics**\n",
      "🔹 **MSE (Close Price):** 376416.7943\n",
      "🔹 **MSE (Open Price):** 375315.0535\n",
      "🔹 **MAE (Close Price):** 612.3073\n",
      "🔹 **MAE (Open Price):** 611.4999\n",
      "🔹 **R² Score (Close Price):** -250.7017 (Closer to 1 is better)\n",
      "🔹 **R² Score (Open Price):** -270.5781 (Closer to 1 is better)\n"
     ]
    }
   ],
   "source": [
    "from sklearn.metrics import mean_squared_error, mean_absolute_error, r2_score\n",
    "\n",
    "# ✅ Load the actual stock prices for comparison\n",
    "actual_close = merged_data['close'][-len(predictions):]  # Last N rows matching predictions\n",
    "actual_open = merged_data['open'][-len(predictions):]  # Last N rows matching predictions\n",
    "\n",
    "# ✅ Extract predicted prices\n",
    "predicted_close = predictions['predicted_close']\n",
    "predicted_open = predictions['predicted_open']\n",
    "\n",
    "# ✅ Compute Error Metrics\n",
    "mse_close = mean_squared_error(actual_close, predicted_close)\n",
    "mse_open = mean_squared_error(actual_open, predicted_open)\n",
    "\n",
    "mae_close = mean_absolute_error(actual_close, predicted_close)\n",
    "mae_open = mean_absolute_error(actual_open, predicted_open)\n",
    "\n",
    "r2_close = r2_score(actual_close, predicted_close)\n",
    "r2_open = r2_score(actual_open, predicted_open)\n",
    "\n",
    "# ✅ Print Evaluation Results\n",
    "print(\"\\n📊 **Model Evaluation Metrics**\")\n",
    "print(f\"🔹 **MSE (Close Price):** {mse_close:.4f}\")\n",
    "print(f\"🔹 **MSE (Open Price):** {mse_open:.4f}\")\n",
    "print(f\"🔹 **MAE (Close Price):** {mae_close:.4f}\")\n",
    "print(f\"🔹 **MAE (Open Price):** {mae_open:.4f}\")\n",
    "print(f\"🔹 **R² Score (Close Price):** {r2_close:.4f} (Closer to 1 is better)\")\n",
    "print(f\"🔹 **R² Score (Open Price):** {r2_open:.4f} (Closer to 1 is better)\")\n"
   ]
  },
  {
   "cell_type": "code",
   "execution_count": null,
   "id": "0c0b7e75-3453-4a93-aee9-054b06e6dbb3",
   "metadata": {},
   "outputs": [
    {
     "name": "stdout",
     "output_type": "stream",
     "text": [
      "\n",
      "📊 **Actual vs Predicted Stock Prices:**\n",
      "         Date  Actual Close Price  Predicted Close Price  Actual Open Price  \\\n",
      "0  2024-06-01              108.75               7.474301             109.80   \n",
      "1  2024-06-01              109.55               7.902989             108.85   \n",
      "2  2024-06-01              108.20               7.902989             110.65   \n",
      "3  2024-06-01              106.75               7.902989             109.00   \n",
      "4  2024-06-01              105.05               7.474301             107.80   \n",
      "5  2024-06-01              104.10               7.902989             105.05   \n",
      "6  2024-06-01              105.65               7.474301             104.10   \n",
      "7  2024-06-01              102.15               7.474301             105.65   \n",
      "8  2024-06-01               97.05               7.902989              97.05   \n",
      "9  2024-06-01              101.80               7.902989              92.20   \n",
      "\n",
      "   Predicted Open Price  \n",
      "0              6.925634  \n",
      "1              7.510152  \n",
      "2              7.510152  \n",
      "3              7.510152  \n",
      "4              6.925634  \n",
      "5              7.510152  \n",
      "6              6.925634  \n",
      "7              6.925634  \n",
      "8              7.510152  \n",
      "9              7.510152  \n"
     ]
    }
   ],
   "source": [
    "import pandas as pd\n",
    "\n",
    "# ✅ Load Predictions\n",
    "predicted_data = pd.read_csv(\"predicted_stock_prices.csv\")\n",
    "\n",
    "# ✅ Extract Actual Prices\n",
    "actual_close = y_test_close  # From your test dataset\n",
    "actual_open = y_test_open\n",
    "\n",
    "# ✅ Extract Predicted Prices\n",
    "predicted_close = predicted_data[\"predicted_close\"]\n",
    "predicted_open = predicted_data[\"predicted_open\"]\n",
    "\n",
    "# ✅ Compare in a DataFrame\n",
    "comparison_df = pd.DataFrame({\n",
    "    \"Date\": predicted_data[\"date\"],\n",
    "    \"Actual Close Price\": actual_close[:len(predicted_close)],  # Match lengths\n",
    "    \"Predicted Close Price\": predicted_close,\n",
    "    \"Actual Open Price\": actual_open[:len(predicted_open)],\n",
    "    \"Predicted Open Price\": predicted_open\n",
    "})\n",
    "\n",
    "# ✅ Show First 10 Entries\n",
    "print(\"\\n📊 **Actual vs Predicted Stock Prices:**\")\n",
    "print(comparison_df.head(10))\n"
   ]
  },
  {
   "cell_type": "code",
   "execution_count": null,
   "id": "a9c0fd80-f851-4c82-9fd8-1b2b9701c78d",
   "metadata": {},
   "outputs": [
    {
     "name": "stderr",
     "output_type": "stream",
     "text": [
      "C:\\Users\\sharm\\.conda\\envs\\tf_env\\lib\\site-packages\\IPython\\core\\pylabtools.py:170: UserWarning: Glyph 128200 (\\N{CHART WITH UPWARDS TREND}) missing from font(s) DejaVu Sans.\n",
      "  fig.canvas.print_figure(bytes_io, **kw)\n"
     ]
    },
    {
     "data": {
      "image/png": "[encoded data removed]",
      "text/plain": [
       "<Figure size 1000x500 with 1 Axes>"
      ]
     },
     "metadata": {},
     "output_type": "display_data"
    },
    {
     "data": {
      "image/png": "[encoded data removed]",
      "text/plain": [
       "<Figure size 1000x500 with 1 Axes>"
      ]
     },
     "metadata": {},
     "output_type": "display_data"
    }
   ],
   "source": [
    "import matplotlib.pyplot as plt\n",
    "\n",
    "# ✅ Plot Close Prices\n",
    "plt.figure(figsize=(10,5))\n",
    "plt.plot(comparison_df[\"Date\"], comparison_df[\"Actual Close Price\"], label=\"Actual Close Price\", color=\"blue\")\n",
    "plt.plot(comparison_df[\"Date\"], comparison_df[\"Predicted Close Price\"], label=\"Predicted Close Price\", linestyle=\"dashed\", color=\"red\")\n",
    "plt.legend()\n",
    "plt.xlabel(\"Date\")\n",
    "plt.ylabel(\"Stock Price\")\n",
    "plt.title(\"📈 Actual vs Predicted Close Prices\")\n",
    "plt.xticks(rotation=45)\n",
    "plt.show()\n",
    "\n",
    "# ✅ Plot Open Prices\n",
    "plt.figure(figsize=(10,5))\n",
    "plt.plot(comparison_df[\"Date\"], comparison_df[\"Actual Open Price\"], label=\"Actual Open Price\", color=\"green\")\n",
    "plt.plot(comparison_df[\"Date\"], comparison_df[\"Predicted Open Price\"], label=\"Predicted Open Price\", linestyle=\"dashed\", color=\"orange\")\n",
    "plt.legend()\n",
    "plt.xlabel(\"Date\")\n",
    "plt.ylabel(\"Stock Price\")\n",
    "plt.title(\"📈 Actual vs Predicted Open Prices\")\n",
    "plt.xticks(rotation=45)\n",
    "plt.show()\n"
   ]
  },
  {
   "cell_type": "code",
   "execution_count": null,
   "id": "270a5dbe-d5d8-4f47-b885-545f2730b80c",
   "metadata": {},
   "outputs": [],
   "source": [
    "print(\"\\n✅ News Data Columns Before Merging:\", news_data.columns)\n",
    "print(news_data.head())  # Show first few rows\n"
   ]
  },
  {
   "cell_type": "code",
   "execution_count": null,
   "id": "d534995f-b3ae-4b24-9d39-0777278e92ab",
   "metadata": {},
   "outputs": [
    {
     "name": "stdout",
     "output_type": "stream",
     "text": [
      "                                        news_summary  sentiment\n",
      "0  UNESCO Goodwill Ambassador and Founder of the ...          1\n",
      "1  India's most innovative deals have finally bee...          1\n",
      "2  Adani has seen his ventures prosper at a brisk...          1\n",
      "3  Despite vehement political opposition, the Utt...          1\n",
      "4  Scientists have shown that a bacterial cell ca...          1\n",
      "5  Promos of “Ishqiya” have caught on in a big wa...         -1\n",
      "6  At 20, Saina Nehwal finds herself at the foref...          1\n",
      "7  The paraphernalia of power and status that go ...         -1\n",
      "8  Fatima Meer, who has died aged 81 after a stro...          1\n",
      "9  Children who scavenge trash for a living repor...          1\n"
     ]
    }
   ],
   "source": [
    "print(news_data[['news_summary', 'sentiment']].head(10))  # Verify Sentiment Values\n"
   ]
  },
  {
   "cell_type": "code",
   "execution_count": null,
   "id": "c93a82de-8b60-4042-9a95-292dd265e17f",
   "metadata": {},
   "outputs": [
    {
     "name": "stderr",
     "output_type": "stream",
     "text": [
      "Device set to use cpu\n"
     ]
    },
    {
     "name": "stdout",
     "output_type": "stream",
     "text": [
      "[{'label': 'NEGATIVE', 'score': 0.9996507167816162}]\n"
     ]
    }
   ],
   "source": [
    "from transformers import pipeline\n",
    "\n",
    "# Load model\n",
    "sentiment_pipeline = pipeline(\"sentiment-analysis\", model=\"distilbert-base-uncased-finetuned-sst-2-english\", device=-1)\n",
    "\n",
    "# Test sentiment on sample news\n",
    "test_sentiment = sentiment_pipeline(\"Stock market is crashing!\")\n",
    "print(test_sentiment)  # Should return POSITIVE or NEGATIVE\n"
   ]
  },
  {
   "cell_type": "code",
   "execution_count": null,
   "id": "992b4829-5dcf-4161-bd4d-7261c28f52c5",
   "metadata": {},
   "outputs": [
    {
     "name": "stdout",
     "output_type": "stream",
     "text": [
      "\n",
      "✅ News Data Columns: Index(['date', 'title', 'news_summary'], dtype='object')\n"
     ]
    }
   ],
   "source": [
    "import pandas as pd  \n",
    "\n",
    "# ✅ Load news data\n",
    "news_data = pd.read_csv('news_data.csv')\n",
    "\n",
    "# ✅ Ensure columns exist\n",
    "print(\"\\n✅ News Data Columns:\", news_data.columns)\n"
   ]
  },
  {
   "cell_type": "code",
   "execution_count": null,
   "id": "dfbb1bbc-5618-43db-88d7-210f901e177c",
   "metadata": {},
   "outputs": [],
   "source": [
    "print(stock_data[['date']].head(10))  # Show first 10 parsed dates\n"
   ]
  },
  {
   "cell_type": "code",
   "execution_count": null,
   "id": "352d9340-c998-4a8c-acb4-c0bab0dc7c77",
   "metadata": {},
   "outputs": [
    {
     "name": "stdout",
     "output_type": "stream",
     "text": [
      "\n",
      "❌ Error: 'sentiment' column is missing in news_data!\n"
     ]
    }
   ],
   "source": [
    "if 'sentiment' in news_data.columns:\n",
    "    news_data['sentiment'] = news_data['sentiment'].map({'POSITIVE': 1, 'NEGATIVE': -1}).fillna(0)\n",
    "    print(\"\\n✅ Sentiment Mapping Successful!\")\n",
    "else:\n",
    "    print(\"\\n❌ Error: 'sentiment' column is missing in news_data!\")\n"
   ]
  },
  {
   "cell_type": "code",
   "execution_count": null,
   "id": "337ecaf1-178b-4220-ab26-522286cd0428",
   "metadata": {},
   "outputs": [],
   "source": []
  },
  {
   "cell_type": "code",
   "execution_count": null,
   "id": "b94e308c-61c3-4443-9107-fb615e9139a9",
   "metadata": {},
   "outputs": [],
   "source": []
  }
 ],
 "metadata": {
  "kernelspec": {
   "display_name": "tf_env",
   "language": "python",
   "name": "python3"
  },
  "language_info": {
   "codemirror_mode": {
    "name": "ipython",
    "version": 3
   },
   "file_extension": ".py",
   "mimetype": "text/x-python",
   "name": "python",
   "nbconvert_exporter": "python",
   "pygments_lexer": "ipython3",
   "version": "3.10.16"
  }
 },
 "nbformat": 4,
 "nbformat_minor": 5
}
